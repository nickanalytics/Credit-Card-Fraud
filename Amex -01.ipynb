{
 "cells": [
  {
   "cell_type": "markdown",
   "id": "2fcc077f",
   "metadata": {},
   "source": [
    "### Import Amex-01"
   ]
  },
  {
   "cell_type": "code",
   "execution_count": 3,
   "id": "2815f22a",
   "metadata": {},
   "outputs": [],
   "source": [
    "import pandas as pd\n",
    "import numpy as np\n",
    "import matplotlib.pyplot as plt\n",
    "import seaborn as sns"
   ]
  },
  {
   "cell_type": "code",
   "execution_count": 9,
   "id": "30e0907b",
   "metadata": {},
   "outputs": [],
   "source": [
    "df = pd.read_csv('F:/_Databestanden/amex_one.csv')"
   ]
  },
  {
   "cell_type": "code",
   "execution_count": 3,
   "id": "ec56d7f2",
   "metadata": {},
   "outputs": [
    {
     "data": {
      "text/plain": [
       "(5635, 191)"
      ]
     },
     "execution_count": 3,
     "metadata": {},
     "output_type": "execute_result"
    }
   ],
   "source": [
    "df.shape"
   ]
  },
  {
   "cell_type": "code",
   "execution_count": 9,
   "id": "43d14ce0",
   "metadata": {},
   "outputs": [
    {
     "data": {
      "text/html": [
       "<div>\n",
       "<style scoped>\n",
       "    .dataframe tbody tr th:only-of-type {\n",
       "        vertical-align: middle;\n",
       "    }\n",
       "\n",
       "    .dataframe tbody tr th {\n",
       "        vertical-align: top;\n",
       "    }\n",
       "\n",
       "    .dataframe thead th {\n",
       "        text-align: right;\n",
       "    }\n",
       "</style>\n",
       "<table border=\"1\" class=\"dataframe\">\n",
       "  <thead>\n",
       "    <tr style=\"text-align: right;\">\n",
       "      <th></th>\n",
       "      <th>unnamed: 0</th>\n",
       "      <th>customer_id</th>\n",
       "      <th>s_2</th>\n",
       "      <th>p_2</th>\n",
       "      <th>d_39</th>\n",
       "      <th>b_1</th>\n",
       "      <th>b_2</th>\n",
       "      <th>r_1</th>\n",
       "      <th>s_3</th>\n",
       "      <th>d_41</th>\n",
       "      <th>...</th>\n",
       "      <th>d_136</th>\n",
       "      <th>d_137</th>\n",
       "      <th>d_138</th>\n",
       "      <th>d_139</th>\n",
       "      <th>d_140</th>\n",
       "      <th>d_141</th>\n",
       "      <th>d_142</th>\n",
       "      <th>d_143</th>\n",
       "      <th>d_144</th>\n",
       "      <th>d_145</th>\n",
       "    </tr>\n",
       "  </thead>\n",
       "  <tbody>\n",
       "    <tr>\n",
       "      <th>0</th>\n",
       "      <td>19190</td>\n",
       "      <td>00e6b0939afa2548eb3cf5b6b052dd176499856a115cfb...</td>\n",
       "      <td>2018-02-23</td>\n",
       "      <td>0.973291</td>\n",
       "      <td>0.244723</td>\n",
       "      <td>0.017692</td>\n",
       "      <td>1.003153</td>\n",
       "      <td>0.000864</td>\n",
       "      <td>0.116674</td>\n",
       "      <td>0.000767</td>\n",
       "      <td>...</td>\n",
       "      <td>NaN</td>\n",
       "      <td>NaN</td>\n",
       "      <td>NaN</td>\n",
       "      <td>0.005018</td>\n",
       "      <td>0.009312</td>\n",
       "      <td>0.009102</td>\n",
       "      <td>NaN</td>\n",
       "      <td>0.007274</td>\n",
       "      <td>0.007641</td>\n",
       "      <td>0.000058</td>\n",
       "    </tr>\n",
       "    <tr>\n",
       "      <th>1</th>\n",
       "      <td>9539</td>\n",
       "      <td>00726bc2a559f3f66d9706eb3a8d4bc2c15e636752a0f3...</td>\n",
       "      <td>2018-02-12</td>\n",
       "      <td>0.348496</td>\n",
       "      <td>0.034747</td>\n",
       "      <td>0.313939</td>\n",
       "      <td>0.055277</td>\n",
       "      <td>0.005402</td>\n",
       "      <td>0.321969</td>\n",
       "      <td>0.005840</td>\n",
       "      <td>...</td>\n",
       "      <td>0.258054</td>\n",
       "      <td>0.002846</td>\n",
       "      <td>0.005948</td>\n",
       "      <td>0.007326</td>\n",
       "      <td>0.002038</td>\n",
       "      <td>0.008465</td>\n",
       "      <td>NaN</td>\n",
       "      <td>0.001933</td>\n",
       "      <td>0.007936</td>\n",
       "      <td>0.003655</td>\n",
       "    </tr>\n",
       "    <tr>\n",
       "      <th>2</th>\n",
       "      <td>8502</td>\n",
       "      <td>00674acb4cd51fd35dd5424b77fcd9b9abef59f78f1bf7...</td>\n",
       "      <td>2017-06-03</td>\n",
       "      <td>0.636157</td>\n",
       "      <td>0.007966</td>\n",
       "      <td>0.314317</td>\n",
       "      <td>0.175274</td>\n",
       "      <td>0.004513</td>\n",
       "      <td>0.543494</td>\n",
       "      <td>0.006298</td>\n",
       "      <td>...</td>\n",
       "      <td>NaN</td>\n",
       "      <td>NaN</td>\n",
       "      <td>NaN</td>\n",
       "      <td>0.006381</td>\n",
       "      <td>0.006165</td>\n",
       "      <td>0.000559</td>\n",
       "      <td>NaN</td>\n",
       "      <td>0.006466</td>\n",
       "      <td>0.002490</td>\n",
       "      <td>0.006148</td>\n",
       "    </tr>\n",
       "    <tr>\n",
       "      <th>3</th>\n",
       "      <td>4210</td>\n",
       "      <td>0034cd7fb57a114eb31e360664aa861bad6634c227437f...</td>\n",
       "      <td>2017-08-23</td>\n",
       "      <td>0.874751</td>\n",
       "      <td>0.008741</td>\n",
       "      <td>0.009354</td>\n",
       "      <td>0.810007</td>\n",
       "      <td>0.006064</td>\n",
       "      <td>0.145281</td>\n",
       "      <td>0.004608</td>\n",
       "      <td>...</td>\n",
       "      <td>NaN</td>\n",
       "      <td>NaN</td>\n",
       "      <td>NaN</td>\n",
       "      <td>1.000512</td>\n",
       "      <td>0.003106</td>\n",
       "      <td>0.933656</td>\n",
       "      <td>0.361338</td>\n",
       "      <td>1.008019</td>\n",
       "      <td>0.669240</td>\n",
       "      <td>0.097461</td>\n",
       "    </tr>\n",
       "    <tr>\n",
       "      <th>4</th>\n",
       "      <td>9949</td>\n",
       "      <td>00774cde32a3a8894c5274e49092252b0d78cc49bffbb8...</td>\n",
       "      <td>2017-07-28</td>\n",
       "      <td>0.575609</td>\n",
       "      <td>0.500858</td>\n",
       "      <td>0.424204</td>\n",
       "      <td>0.040389</td>\n",
       "      <td>0.004440</td>\n",
       "      <td>0.310467</td>\n",
       "      <td>0.005908</td>\n",
       "      <td>...</td>\n",
       "      <td>NaN</td>\n",
       "      <td>NaN</td>\n",
       "      <td>NaN</td>\n",
       "      <td>0.008616</td>\n",
       "      <td>0.003953</td>\n",
       "      <td>0.000482</td>\n",
       "      <td>NaN</td>\n",
       "      <td>0.005727</td>\n",
       "      <td>0.006503</td>\n",
       "      <td>0.001129</td>\n",
       "    </tr>\n",
       "  </tbody>\n",
       "</table>\n",
       "<p>5 rows × 191 columns</p>\n",
       "</div>"
      ],
      "text/plain": [
       "   unnamed: 0                                        customer_id         s_2  \\\n",
       "0       19190  00e6b0939afa2548eb3cf5b6b052dd176499856a115cfb...  2018-02-23   \n",
       "1        9539  00726bc2a559f3f66d9706eb3a8d4bc2c15e636752a0f3...  2018-02-12   \n",
       "2        8502  00674acb4cd51fd35dd5424b77fcd9b9abef59f78f1bf7...  2017-06-03   \n",
       "3        4210  0034cd7fb57a114eb31e360664aa861bad6634c227437f...  2017-08-23   \n",
       "4        9949  00774cde32a3a8894c5274e49092252b0d78cc49bffbb8...  2017-07-28   \n",
       "\n",
       "        p_2      d_39       b_1       b_2       r_1       s_3      d_41  ...  \\\n",
       "0  0.973291  0.244723  0.017692  1.003153  0.000864  0.116674  0.000767  ...   \n",
       "1  0.348496  0.034747  0.313939  0.055277  0.005402  0.321969  0.005840  ...   \n",
       "2  0.636157  0.007966  0.314317  0.175274  0.004513  0.543494  0.006298  ...   \n",
       "3  0.874751  0.008741  0.009354  0.810007  0.006064  0.145281  0.004608  ...   \n",
       "4  0.575609  0.500858  0.424204  0.040389  0.004440  0.310467  0.005908  ...   \n",
       "\n",
       "      d_136     d_137     d_138     d_139     d_140     d_141     d_142  \\\n",
       "0       NaN       NaN       NaN  0.005018  0.009312  0.009102       NaN   \n",
       "1  0.258054  0.002846  0.005948  0.007326  0.002038  0.008465       NaN   \n",
       "2       NaN       NaN       NaN  0.006381  0.006165  0.000559       NaN   \n",
       "3       NaN       NaN       NaN  1.000512  0.003106  0.933656  0.361338   \n",
       "4       NaN       NaN       NaN  0.008616  0.003953  0.000482       NaN   \n",
       "\n",
       "      d_143     d_144     d_145  \n",
       "0  0.007274  0.007641  0.000058  \n",
       "1  0.001933  0.007936  0.003655  \n",
       "2  0.006466  0.002490  0.006148  \n",
       "3  1.008019  0.669240  0.097461  \n",
       "4  0.005727  0.006503  0.001129  \n",
       "\n",
       "[5 rows x 191 columns]"
      ]
     },
     "execution_count": 9,
     "metadata": {},
     "output_type": "execute_result"
    }
   ],
   "source": [
    "df.head()"
   ]
  },
  {
   "cell_type": "code",
   "execution_count": 5,
   "id": "8a9d53bd",
   "metadata": {},
   "outputs": [
    {
     "data": {
      "text/plain": [
       "Unnamed: 0        0\n",
       "customer_ID       0\n",
       "S_2               0\n",
       "P_2              47\n",
       "D_39              0\n",
       "               ... \n",
       "D_141           101\n",
       "D_142          4663\n",
       "D_143           101\n",
       "D_144            36\n",
       "D_145           101\n",
       "Length: 191, dtype: int64"
      ]
     },
     "execution_count": 5,
     "metadata": {},
     "output_type": "execute_result"
    }
   ],
   "source": [
    "df.isna().sum()"
   ]
  },
  {
   "cell_type": "code",
   "execution_count": null,
   "id": "f7a9a2c2",
   "metadata": {},
   "outputs": [],
   "source": [
    "df.describe()"
   ]
  },
  {
   "cell_type": "code",
   "execution_count": 6,
   "id": "6cd50d85",
   "metadata": {},
   "outputs": [],
   "source": [
    "df.columns = df.columns.str.lower()"
   ]
  },
  {
   "cell_type": "code",
   "execution_count": null,
   "id": "3e060d3d",
   "metadata": {},
   "outputs": [],
   "source": [
    "# df[comma] = round(df[comma],2)"
   ]
  },
  {
   "cell_type": "markdown",
   "id": "ec2adfc1",
   "metadata": {},
   "source": [
    "### Basic EDA"
   ]
  },
  {
   "cell_type": "code",
   "execution_count": null,
   "id": "18b0effa",
   "metadata": {},
   "outputs": [],
   "source": []
  },
  {
   "cell_type": "markdown",
   "id": "10a9286b",
   "metadata": {},
   "source": [
    "### Map labels to training data and add to df"
   ]
  },
  {
   "cell_type": "code",
   "execution_count": 7,
   "id": "b657ad1e",
   "metadata": {},
   "outputs": [],
   "source": [
    "train_label = pd.read_csv('D:/_Databestanden/source/train_labels.csv')"
   ]
  },
  {
   "cell_type": "code",
   "execution_count": 8,
   "id": "0afa9c9c",
   "metadata": {},
   "outputs": [
    {
     "data": {
      "text/html": [
       "<div>\n",
       "<style scoped>\n",
       "    .dataframe tbody tr th:only-of-type {\n",
       "        vertical-align: middle;\n",
       "    }\n",
       "\n",
       "    .dataframe tbody tr th {\n",
       "        vertical-align: top;\n",
       "    }\n",
       "\n",
       "    .dataframe thead th {\n",
       "        text-align: right;\n",
       "    }\n",
       "</style>\n",
       "<table border=\"1\" class=\"dataframe\">\n",
       "  <thead>\n",
       "    <tr style=\"text-align: right;\">\n",
       "      <th></th>\n",
       "      <th>customer_ID</th>\n",
       "      <th>target</th>\n",
       "    </tr>\n",
       "  </thead>\n",
       "  <tbody>\n",
       "    <tr>\n",
       "      <th>0</th>\n",
       "      <td>0000099d6bd597052cdcda90ffabf56573fe9d7c79be5f...</td>\n",
       "      <td>0</td>\n",
       "    </tr>\n",
       "    <tr>\n",
       "      <th>1</th>\n",
       "      <td>00000fd6641609c6ece5454664794f0340ad84dddce9a2...</td>\n",
       "      <td>0</td>\n",
       "    </tr>\n",
       "    <tr>\n",
       "      <th>2</th>\n",
       "      <td>00001b22f846c82c51f6e3958ccd81970162bae8b007e8...</td>\n",
       "      <td>0</td>\n",
       "    </tr>\n",
       "    <tr>\n",
       "      <th>3</th>\n",
       "      <td>000041bdba6ecadd89a52d11886e8eaaec9325906c9723...</td>\n",
       "      <td>0</td>\n",
       "    </tr>\n",
       "    <tr>\n",
       "      <th>4</th>\n",
       "      <td>00007889e4fcd2614b6cbe7f8f3d2e5c728eca32d9eb8a...</td>\n",
       "      <td>0</td>\n",
       "    </tr>\n",
       "  </tbody>\n",
       "</table>\n",
       "</div>"
      ],
      "text/plain": [
       "                                         customer_ID  target\n",
       "0  0000099d6bd597052cdcda90ffabf56573fe9d7c79be5f...       0\n",
       "1  00000fd6641609c6ece5454664794f0340ad84dddce9a2...       0\n",
       "2  00001b22f846c82c51f6e3958ccd81970162bae8b007e8...       0\n",
       "3  000041bdba6ecadd89a52d11886e8eaaec9325906c9723...       0\n",
       "4  00007889e4fcd2614b6cbe7f8f3d2e5c728eca32d9eb8a...       0"
      ]
     },
     "execution_count": 8,
     "metadata": {},
     "output_type": "execute_result"
    }
   ],
   "source": [
    "train_label.head()"
   ]
  },
  {
   "cell_type": "code",
   "execution_count": 11,
   "id": "77475b60",
   "metadata": {},
   "outputs": [],
   "source": [
    "my_dict = train_label.set_index('customer_ID').to_dict()['target']"
   ]
  },
  {
   "cell_type": "code",
   "execution_count": 12,
   "id": "6f4271a1",
   "metadata": {},
   "outputs": [],
   "source": [
    "df['target'] = df['customer_id'].map(my_dict)"
   ]
  },
  {
   "cell_type": "code",
   "execution_count": 13,
   "id": "4badadd0",
   "metadata": {},
   "outputs": [
    {
     "data": {
      "text/html": [
       "<div>\n",
       "<style scoped>\n",
       "    .dataframe tbody tr th:only-of-type {\n",
       "        vertical-align: middle;\n",
       "    }\n",
       "\n",
       "    .dataframe tbody tr th {\n",
       "        vertical-align: top;\n",
       "    }\n",
       "\n",
       "    .dataframe thead th {\n",
       "        text-align: right;\n",
       "    }\n",
       "</style>\n",
       "<table border=\"1\" class=\"dataframe\">\n",
       "  <thead>\n",
       "    <tr style=\"text-align: right;\">\n",
       "      <th></th>\n",
       "      <th>unnamed: 0</th>\n",
       "      <th>customer_id</th>\n",
       "      <th>s_2</th>\n",
       "      <th>p_2</th>\n",
       "      <th>d_39</th>\n",
       "      <th>b_1</th>\n",
       "      <th>b_2</th>\n",
       "      <th>r_1</th>\n",
       "      <th>s_3</th>\n",
       "      <th>d_41</th>\n",
       "      <th>...</th>\n",
       "      <th>d_137</th>\n",
       "      <th>d_138</th>\n",
       "      <th>d_139</th>\n",
       "      <th>d_140</th>\n",
       "      <th>d_141</th>\n",
       "      <th>d_142</th>\n",
       "      <th>d_143</th>\n",
       "      <th>d_144</th>\n",
       "      <th>d_145</th>\n",
       "      <th>target</th>\n",
       "    </tr>\n",
       "  </thead>\n",
       "  <tbody>\n",
       "    <tr>\n",
       "      <th>0</th>\n",
       "      <td>19190</td>\n",
       "      <td>00e6b0939afa2548eb3cf5b6b052dd176499856a115cfb...</td>\n",
       "      <td>2018-02-23</td>\n",
       "      <td>0.973291</td>\n",
       "      <td>0.244723</td>\n",
       "      <td>0.017692</td>\n",
       "      <td>1.003153</td>\n",
       "      <td>0.000864</td>\n",
       "      <td>0.116674</td>\n",
       "      <td>0.000767</td>\n",
       "      <td>...</td>\n",
       "      <td>NaN</td>\n",
       "      <td>NaN</td>\n",
       "      <td>0.005018</td>\n",
       "      <td>0.009312</td>\n",
       "      <td>0.009102</td>\n",
       "      <td>NaN</td>\n",
       "      <td>0.007274</td>\n",
       "      <td>0.007641</td>\n",
       "      <td>0.000058</td>\n",
       "      <td>0</td>\n",
       "    </tr>\n",
       "    <tr>\n",
       "      <th>1</th>\n",
       "      <td>9539</td>\n",
       "      <td>00726bc2a559f3f66d9706eb3a8d4bc2c15e636752a0f3...</td>\n",
       "      <td>2018-02-12</td>\n",
       "      <td>0.348496</td>\n",
       "      <td>0.034747</td>\n",
       "      <td>0.313939</td>\n",
       "      <td>0.055277</td>\n",
       "      <td>0.005402</td>\n",
       "      <td>0.321969</td>\n",
       "      <td>0.005840</td>\n",
       "      <td>...</td>\n",
       "      <td>0.002846</td>\n",
       "      <td>0.005948</td>\n",
       "      <td>0.007326</td>\n",
       "      <td>0.002038</td>\n",
       "      <td>0.008465</td>\n",
       "      <td>NaN</td>\n",
       "      <td>0.001933</td>\n",
       "      <td>0.007936</td>\n",
       "      <td>0.003655</td>\n",
       "      <td>1</td>\n",
       "    </tr>\n",
       "    <tr>\n",
       "      <th>2</th>\n",
       "      <td>8502</td>\n",
       "      <td>00674acb4cd51fd35dd5424b77fcd9b9abef59f78f1bf7...</td>\n",
       "      <td>2017-06-03</td>\n",
       "      <td>0.636157</td>\n",
       "      <td>0.007966</td>\n",
       "      <td>0.314317</td>\n",
       "      <td>0.175274</td>\n",
       "      <td>0.004513</td>\n",
       "      <td>0.543494</td>\n",
       "      <td>0.006298</td>\n",
       "      <td>...</td>\n",
       "      <td>NaN</td>\n",
       "      <td>NaN</td>\n",
       "      <td>0.006381</td>\n",
       "      <td>0.006165</td>\n",
       "      <td>0.000559</td>\n",
       "      <td>NaN</td>\n",
       "      <td>0.006466</td>\n",
       "      <td>0.002490</td>\n",
       "      <td>0.006148</td>\n",
       "      <td>1</td>\n",
       "    </tr>\n",
       "    <tr>\n",
       "      <th>3</th>\n",
       "      <td>4210</td>\n",
       "      <td>0034cd7fb57a114eb31e360664aa861bad6634c227437f...</td>\n",
       "      <td>2017-08-23</td>\n",
       "      <td>0.874751</td>\n",
       "      <td>0.008741</td>\n",
       "      <td>0.009354</td>\n",
       "      <td>0.810007</td>\n",
       "      <td>0.006064</td>\n",
       "      <td>0.145281</td>\n",
       "      <td>0.004608</td>\n",
       "      <td>...</td>\n",
       "      <td>NaN</td>\n",
       "      <td>NaN</td>\n",
       "      <td>1.000512</td>\n",
       "      <td>0.003106</td>\n",
       "      <td>0.933656</td>\n",
       "      <td>0.361338</td>\n",
       "      <td>1.008019</td>\n",
       "      <td>0.669240</td>\n",
       "      <td>0.097461</td>\n",
       "      <td>0</td>\n",
       "    </tr>\n",
       "    <tr>\n",
       "      <th>4</th>\n",
       "      <td>9949</td>\n",
       "      <td>00774cde32a3a8894c5274e49092252b0d78cc49bffbb8...</td>\n",
       "      <td>2017-07-28</td>\n",
       "      <td>0.575609</td>\n",
       "      <td>0.500858</td>\n",
       "      <td>0.424204</td>\n",
       "      <td>0.040389</td>\n",
       "      <td>0.004440</td>\n",
       "      <td>0.310467</td>\n",
       "      <td>0.005908</td>\n",
       "      <td>...</td>\n",
       "      <td>NaN</td>\n",
       "      <td>NaN</td>\n",
       "      <td>0.008616</td>\n",
       "      <td>0.003953</td>\n",
       "      <td>0.000482</td>\n",
       "      <td>NaN</td>\n",
       "      <td>0.005727</td>\n",
       "      <td>0.006503</td>\n",
       "      <td>0.001129</td>\n",
       "      <td>1</td>\n",
       "    </tr>\n",
       "  </tbody>\n",
       "</table>\n",
       "<p>5 rows × 192 columns</p>\n",
       "</div>"
      ],
      "text/plain": [
       "   unnamed: 0                                        customer_id         s_2  \\\n",
       "0       19190  00e6b0939afa2548eb3cf5b6b052dd176499856a115cfb...  2018-02-23   \n",
       "1        9539  00726bc2a559f3f66d9706eb3a8d4bc2c15e636752a0f3...  2018-02-12   \n",
       "2        8502  00674acb4cd51fd35dd5424b77fcd9b9abef59f78f1bf7...  2017-06-03   \n",
       "3        4210  0034cd7fb57a114eb31e360664aa861bad6634c227437f...  2017-08-23   \n",
       "4        9949  00774cde32a3a8894c5274e49092252b0d78cc49bffbb8...  2017-07-28   \n",
       "\n",
       "        p_2      d_39       b_1       b_2       r_1       s_3      d_41  ...  \\\n",
       "0  0.973291  0.244723  0.017692  1.003153  0.000864  0.116674  0.000767  ...   \n",
       "1  0.348496  0.034747  0.313939  0.055277  0.005402  0.321969  0.005840  ...   \n",
       "2  0.636157  0.007966  0.314317  0.175274  0.004513  0.543494  0.006298  ...   \n",
       "3  0.874751  0.008741  0.009354  0.810007  0.006064  0.145281  0.004608  ...   \n",
       "4  0.575609  0.500858  0.424204  0.040389  0.004440  0.310467  0.005908  ...   \n",
       "\n",
       "      d_137     d_138     d_139     d_140     d_141     d_142     d_143  \\\n",
       "0       NaN       NaN  0.005018  0.009312  0.009102       NaN  0.007274   \n",
       "1  0.002846  0.005948  0.007326  0.002038  0.008465       NaN  0.001933   \n",
       "2       NaN       NaN  0.006381  0.006165  0.000559       NaN  0.006466   \n",
       "3       NaN       NaN  1.000512  0.003106  0.933656  0.361338  1.008019   \n",
       "4       NaN       NaN  0.008616  0.003953  0.000482       NaN  0.005727   \n",
       "\n",
       "      d_144     d_145  target  \n",
       "0  0.007641  0.000058       0  \n",
       "1  0.007936  0.003655       1  \n",
       "2  0.002490  0.006148       1  \n",
       "3  0.669240  0.097461       0  \n",
       "4  0.006503  0.001129       1  \n",
       "\n",
       "[5 rows x 192 columns]"
      ]
     },
     "execution_count": 13,
     "metadata": {},
     "output_type": "execute_result"
    }
   ],
   "source": [
    "df.head()"
   ]
  },
  {
   "cell_type": "markdown",
   "id": "b7096a18",
   "metadata": {},
   "source": [
    "### Set correct dtypes"
   ]
  },
  {
   "cell_type": "code",
   "execution_count": 15,
   "id": "561da474",
   "metadata": {},
   "outputs": [
    {
     "data": {
      "text/plain": [
       "unnamed: 0       int64\n",
       "customer_id     object\n",
       "s_2             object\n",
       "p_2            float64\n",
       "d_39           float64\n",
       "                ...   \n",
       "d_142          float64\n",
       "d_143          float64\n",
       "d_144          float64\n",
       "d_145          float64\n",
       "target           int64\n",
       "Length: 192, dtype: object"
      ]
     },
     "execution_count": 15,
     "metadata": {},
     "output_type": "execute_result"
    }
   ],
   "source": [
    "# df.dtypes"
   ]
  },
  {
   "cell_type": "code",
   "execution_count": 16,
   "id": "6896f07b",
   "metadata": {},
   "outputs": [],
   "source": [
    "# cols = ['b_30', 'b_38', 'd_114', 'd_116', 'd_117', 'd_120', 'd_126', 'd_63', 'd_64', 'd_66', 'd_68']"
   ]
  },
  {
   "cell_type": "code",
   "execution_count": 17,
   "id": "5f811679",
   "metadata": {},
   "outputs": [],
   "source": [
    "# df[cols] = df[cols].astype('category')"
   ]
  },
  {
   "cell_type": "code",
   "execution_count": 18,
   "id": "bf564050",
   "metadata": {},
   "outputs": [],
   "source": [
    "df.to_csv('F:/_Databestanden/amex_sample.csv')"
   ]
  },
  {
   "cell_type": "markdown",
   "id": "1de714b8",
   "metadata": {},
   "source": [
    "### EDA histogram plot"
   ]
  },
  {
   "cell_type": "code",
   "execution_count": null,
   "id": "ff4c3ba9",
   "metadata": {},
   "outputs": [],
   "source": [
    "for col in df.columns:\n",
    "    df[col].plot(kind='bar')\n",
    "    plt.title(col)\n",
    "    plt.show()"
   ]
  },
  {
   "cell_type": "markdown",
   "id": "575d6d69",
   "metadata": {},
   "source": [
    "### Import a 33GB file\n",
    "https://medium.com/aatomz-research/how-did-i-convert-the-33-gb-dataset-into-a-3-gb-file-using-pandas-b21d8da205c0"
   ]
  },
  {
   "cell_type": "code",
   "execution_count": 1,
   "id": "46cec037",
   "metadata": {},
   "outputs": [],
   "source": [
    "import pandas as pd\n",
    "import gc\n",
    "import glob\n",
    "import os"
   ]
  },
  {
   "cell_type": "code",
   "execution_count": null,
   "id": "f7ede453",
   "metadata": {},
   "outputs": [],
   "source": [
    "chunk_size=500000\n",
    "num=1\n",
    "for chunk in pd.read_csv('F:/_Databestanden/test_data.csv',chunksize=chunk_size):\n",
    "    chunk.to_csv('chunk'+str(num)+'.csv',index=False)\n",
    "    gc.collect()\n",
    "    num+=1"
   ]
  },
  {
   "cell_type": "code",
   "execution_count": null,
   "id": "9d1f58dc",
   "metadata": {},
   "outputs": [],
   "source": [
    "df = pd.read_csv('chunk2.csv')\n",
    "df.head()"
   ]
  },
  {
   "cell_type": "code",
   "execution_count": null,
   "id": "9f88a236",
   "metadata": {},
   "outputs": [],
   "source": [
    "df.info()"
   ]
  },
  {
   "cell_type": "code",
   "execution_count": null,
   "id": "74bb14e9",
   "metadata": {},
   "outputs": [],
   "source": [
    "path = r'F:\\_Databestanden\\chunks_amex'\n",
    "all_files = glob.glob(os.path.join(path, \"*.csv\"))\n",
    "grouped_files = []\n",
    "\n",
    "for filename in all_files:\n",
    "    chunk = pd.read_csv(filename, index_col=None, header=0)\n",
    "    print(chunk.memory_usage().sum()/1024**3)\n",
    "    for col in chunk.columns:\n",
    "        if chunk[col].dtype == 'float64':\n",
    "            chunk[col] = chunk[col].astype('float16')\n",
    "        if chunk[col].dtype == 'int64':\n",
    "            chunk[col] = chunk[col].astype('int8')\n",
    "    gc.collect()\n",
    "    grouped_files.append(chunk)\n",
    "\n",
    "    df = pd.concat(grouped_files, axis=0, ignore_index=True)\n",
    "    print(df.memory_usage().sum()/1024**3)"
   ]
  },
  {
   "cell_type": "code",
   "execution_count": null,
   "id": "c2edfddc",
   "metadata": {},
   "outputs": [],
   "source": [
    "df.to_feather(\"optimised_amex.feather\")"
   ]
  },
  {
   "cell_type": "code",
   "execution_count": null,
   "id": "69949f09",
   "metadata": {},
   "outputs": [],
   "source": [
    "df = pd.read_feather('optimised_amex.feather')\n",
    "df.head()"
   ]
  },
  {
   "cell_type": "code",
   "execution_count": null,
   "id": "bd115437",
   "metadata": {},
   "outputs": [],
   "source": [
    "df1.dtypes.value_counts()"
   ]
  },
  {
   "cell_type": "markdown",
   "id": "0a50e827",
   "metadata": {},
   "source": [
    "### Separate step: check 4 samples and try to balance them"
   ]
  },
  {
   "cell_type": "code",
   "execution_count": 5,
   "id": "41c52c2c",
   "metadata": {},
   "outputs": [],
   "source": [
    "train1 = pd.read_csv('D:/_Databestanden/samples/df_sample_500.csv')\n",
    "train2 = pd.read_csv('D:/_Databestanden/samples/df_sample_501.csv')\n",
    "train3 = pd.read_csv('D:/_Databestanden/samples/df_sample_502.csv')\n",
    "train4 = pd.read_csv('D:/_Databestanden/samples/df_sample_503.csv')"
   ]
  },
  {
   "cell_type": "code",
   "execution_count": 6,
   "id": "e02ca3ea",
   "metadata": {},
   "outputs": [
    {
     "data": {
      "text/html": [
       "<div>\n",
       "<style scoped>\n",
       "    .dataframe tbody tr th:only-of-type {\n",
       "        vertical-align: middle;\n",
       "    }\n",
       "\n",
       "    .dataframe tbody tr th {\n",
       "        vertical-align: top;\n",
       "    }\n",
       "\n",
       "    .dataframe thead th {\n",
       "        text-align: right;\n",
       "    }\n",
       "</style>\n",
       "<table border=\"1\" class=\"dataframe\">\n",
       "  <thead>\n",
       "    <tr style=\"text-align: right;\">\n",
       "      <th></th>\n",
       "      <th>Unnamed: 0</th>\n",
       "      <th>customer_ID</th>\n",
       "      <th>S_2</th>\n",
       "      <th>P_2</th>\n",
       "      <th>D_39</th>\n",
       "      <th>B_1</th>\n",
       "      <th>B_2</th>\n",
       "      <th>R_1</th>\n",
       "      <th>S_3</th>\n",
       "      <th>D_41</th>\n",
       "      <th>...</th>\n",
       "      <th>D_137</th>\n",
       "      <th>D_138</th>\n",
       "      <th>D_139</th>\n",
       "      <th>D_140</th>\n",
       "      <th>D_141</th>\n",
       "      <th>D_142</th>\n",
       "      <th>D_143</th>\n",
       "      <th>D_144</th>\n",
       "      <th>D_145</th>\n",
       "      <th>target</th>\n",
       "    </tr>\n",
       "  </thead>\n",
       "  <tbody>\n",
       "    <tr>\n",
       "      <th>0</th>\n",
       "      <td>1851</td>\n",
       "      <td>0017039b6f3eceb538de3d312f77028bf274cf61f992a3...</td>\n",
       "      <td>2017-04-30</td>\n",
       "      <td>0.790588</td>\n",
       "      <td>0.000587</td>\n",
       "      <td>0.179299</td>\n",
       "      <td>0.087905</td>\n",
       "      <td>0.009421</td>\n",
       "      <td>1.496560</td>\n",
       "      <td>0.000029</td>\n",
       "      <td>...</td>\n",
       "      <td>NaN</td>\n",
       "      <td>NaN</td>\n",
       "      <td>0.007027</td>\n",
       "      <td>0.004346</td>\n",
       "      <td>0.007805</td>\n",
       "      <td>NaN</td>\n",
       "      <td>0.004064</td>\n",
       "      <td>0.009832</td>\n",
       "      <td>0.002686</td>\n",
       "      <td>0</td>\n",
       "    </tr>\n",
       "    <tr>\n",
       "      <th>1</th>\n",
       "      <td>11808</td>\n",
       "      <td>008d362e5f04f2830a77b683d4f8e5f1bc95d584826ebd...</td>\n",
       "      <td>2017-11-18</td>\n",
       "      <td>0.905534</td>\n",
       "      <td>0.004934</td>\n",
       "      <td>0.017092</td>\n",
       "      <td>1.001321</td>\n",
       "      <td>0.001382</td>\n",
       "      <td>0.174529</td>\n",
       "      <td>0.007555</td>\n",
       "      <td>...</td>\n",
       "      <td>NaN</td>\n",
       "      <td>NaN</td>\n",
       "      <td>0.007343</td>\n",
       "      <td>0.008283</td>\n",
       "      <td>0.006358</td>\n",
       "      <td>NaN</td>\n",
       "      <td>0.003868</td>\n",
       "      <td>0.000511</td>\n",
       "      <td>0.005138</td>\n",
       "      <td>0</td>\n",
       "    </tr>\n",
       "    <tr>\n",
       "      <th>2</th>\n",
       "      <td>11964</td>\n",
       "      <td>008ebb1d6a19e19cfb1289fcf5f76745b82e204c125775...</td>\n",
       "      <td>2018-01-07</td>\n",
       "      <td>0.784520</td>\n",
       "      <td>0.387071</td>\n",
       "      <td>0.064299</td>\n",
       "      <td>1.009128</td>\n",
       "      <td>0.004430</td>\n",
       "      <td>0.070870</td>\n",
       "      <td>0.000098</td>\n",
       "      <td>...</td>\n",
       "      <td>NaN</td>\n",
       "      <td>NaN</td>\n",
       "      <td>0.002206</td>\n",
       "      <td>0.002395</td>\n",
       "      <td>0.001321</td>\n",
       "      <td>NaN</td>\n",
       "      <td>0.007708</td>\n",
       "      <td>0.008844</td>\n",
       "      <td>0.006575</td>\n",
       "      <td>0</td>\n",
       "    </tr>\n",
       "    <tr>\n",
       "      <th>3</th>\n",
       "      <td>3540</td>\n",
       "      <td>002b930ad6a7e6551482b48a4dbf0f43003e80877f7224...</td>\n",
       "      <td>2017-12-17</td>\n",
       "      <td>0.517841</td>\n",
       "      <td>0.000040</td>\n",
       "      <td>0.022175</td>\n",
       "      <td>1.000154</td>\n",
       "      <td>0.001345</td>\n",
       "      <td>0.171985</td>\n",
       "      <td>0.009663</td>\n",
       "      <td>...</td>\n",
       "      <td>NaN</td>\n",
       "      <td>NaN</td>\n",
       "      <td>0.000727</td>\n",
       "      <td>0.001603</td>\n",
       "      <td>0.009232</td>\n",
       "      <td>NaN</td>\n",
       "      <td>0.009030</td>\n",
       "      <td>0.002474</td>\n",
       "      <td>0.003869</td>\n",
       "      <td>0</td>\n",
       "    </tr>\n",
       "    <tr>\n",
       "      <th>4</th>\n",
       "      <td>20473</td>\n",
       "      <td>00f63162232baf77c67e25c829b97decfa15ca3cff3a05...</td>\n",
       "      <td>2017-11-25</td>\n",
       "      <td>0.782171</td>\n",
       "      <td>0.002913</td>\n",
       "      <td>0.000985</td>\n",
       "      <td>0.818735</td>\n",
       "      <td>0.004165</td>\n",
       "      <td>NaN</td>\n",
       "      <td>0.008046</td>\n",
       "      <td>...</td>\n",
       "      <td>NaN</td>\n",
       "      <td>NaN</td>\n",
       "      <td>1.005608</td>\n",
       "      <td>0.004036</td>\n",
       "      <td>0.971639</td>\n",
       "      <td>0.624976</td>\n",
       "      <td>1.000561</td>\n",
       "      <td>0.746332</td>\n",
       "      <td>0.274960</td>\n",
       "      <td>0</td>\n",
       "    </tr>\n",
       "  </tbody>\n",
       "</table>\n",
       "<p>5 rows × 192 columns</p>\n",
       "</div>"
      ],
      "text/plain": [
       "   Unnamed: 0                                        customer_ID         S_2  \\\n",
       "0        1851  0017039b6f3eceb538de3d312f77028bf274cf61f992a3...  2017-04-30   \n",
       "1       11808  008d362e5f04f2830a77b683d4f8e5f1bc95d584826ebd...  2017-11-18   \n",
       "2       11964  008ebb1d6a19e19cfb1289fcf5f76745b82e204c125775...  2018-01-07   \n",
       "3        3540  002b930ad6a7e6551482b48a4dbf0f43003e80877f7224...  2017-12-17   \n",
       "4       20473  00f63162232baf77c67e25c829b97decfa15ca3cff3a05...  2017-11-25   \n",
       "\n",
       "        P_2      D_39       B_1       B_2       R_1       S_3      D_41  ...  \\\n",
       "0  0.790588  0.000587  0.179299  0.087905  0.009421  1.496560  0.000029  ...   \n",
       "1  0.905534  0.004934  0.017092  1.001321  0.001382  0.174529  0.007555  ...   \n",
       "2  0.784520  0.387071  0.064299  1.009128  0.004430  0.070870  0.000098  ...   \n",
       "3  0.517841  0.000040  0.022175  1.000154  0.001345  0.171985  0.009663  ...   \n",
       "4  0.782171  0.002913  0.000985  0.818735  0.004165       NaN  0.008046  ...   \n",
       "\n",
       "   D_137  D_138     D_139     D_140     D_141     D_142     D_143     D_144  \\\n",
       "0    NaN    NaN  0.007027  0.004346  0.007805       NaN  0.004064  0.009832   \n",
       "1    NaN    NaN  0.007343  0.008283  0.006358       NaN  0.003868  0.000511   \n",
       "2    NaN    NaN  0.002206  0.002395  0.001321       NaN  0.007708  0.008844   \n",
       "3    NaN    NaN  0.000727  0.001603  0.009232       NaN  0.009030  0.002474   \n",
       "4    NaN    NaN  1.005608  0.004036  0.971639  0.624976  1.000561  0.746332   \n",
       "\n",
       "      D_145  target  \n",
       "0  0.002686       0  \n",
       "1  0.005138       0  \n",
       "2  0.006575       0  \n",
       "3  0.003869       0  \n",
       "4  0.274960       0  \n",
       "\n",
       "[5 rows x 192 columns]"
      ]
     },
     "execution_count": 6,
     "metadata": {},
     "output_type": "execute_result"
    }
   ],
   "source": [
    "train4.head()"
   ]
  },
  {
   "cell_type": "code",
   "execution_count": 7,
   "id": "a5e1da22",
   "metadata": {},
   "outputs": [
    {
     "data": {
      "text/plain": [
       "<AxesSubplot:>"
      ]
     },
     "execution_count": 7,
     "metadata": {},
     "output_type": "execute_result"
    },
    {
     "data": {
      "image/png": "[encoded data removed]",
      "text/plain": [
       "<Figure size 432x288 with 1 Axes>"
      ]
     },
     "metadata": {
      "needs_background": "light"
     },
     "output_type": "display_data"
    }
   ],
   "source": [
    "train1['target'].hist()"
   ]
  },
  {
   "cell_type": "code",
   "execution_count": 8,
   "id": "b89e767c",
   "metadata": {},
   "outputs": [
    {
     "data": {
      "text/plain": [
       "0    4321\n",
       "1    1314\n",
       "Name: target, dtype: int64"
      ]
     },
     "execution_count": 8,
     "metadata": {},
     "output_type": "execute_result"
    }
   ],
   "source": [
    "train1['target'].value_counts()"
   ]
  },
  {
   "cell_type": "code",
   "execution_count": 9,
   "id": "3c6fbada",
   "metadata": {},
   "outputs": [
    {
     "data": {
      "text/plain": [
       "4321"
      ]
     },
     "execution_count": 9,
     "metadata": {},
     "output_type": "execute_result"
    }
   ],
   "source": [
    "train1['target'].value_counts()[0]"
   ]
  },
  {
   "cell_type": "code",
   "execution_count": 10,
   "id": "6d9f7673",
   "metadata": {},
   "outputs": [
    {
     "data": {
      "text/plain": [
       "0.3040962740106457"
      ]
     },
     "execution_count": 10,
     "metadata": {},
     "output_type": "execute_result"
    }
   ],
   "source": [
    "train1['target'].value_counts()[1] / train1['target'].value_counts()[0]"
   ]
  },
  {
   "cell_type": "code",
   "execution_count": 11,
   "id": "e3c2c4bb",
   "metadata": {},
   "outputs": [
    {
     "data": {
      "text/plain": [
       "0.31689647113811636"
      ]
     },
     "execution_count": 11,
     "metadata": {},
     "output_type": "execute_result"
    }
   ],
   "source": [
    "train2['target'].value_counts()[1] / train2['target'].value_counts()[0]"
   ]
  },
  {
   "cell_type": "code",
   "execution_count": 12,
   "id": "25afbdb4",
   "metadata": {},
   "outputs": [
    {
     "data": {
      "text/plain": [
       "0.3305785123966942"
      ]
     },
     "execution_count": 12,
     "metadata": {},
     "output_type": "execute_result"
    }
   ],
   "source": [
    "train3['target'].value_counts()[1] / train3['target'].value_counts()[0]"
   ]
  },
  {
   "cell_type": "code",
   "execution_count": 13,
   "id": "7a65203f",
   "metadata": {},
   "outputs": [
    {
     "data": {
      "text/plain": [
       "0.3290094339622642"
      ]
     },
     "execution_count": 13,
     "metadata": {},
     "output_type": "execute_result"
    }
   ],
   "source": [
    "train4['target'].value_counts()[1] / train4['target'].value_counts()[0]"
   ]
  },
  {
   "cell_type": "code",
   "execution_count": null,
   "id": "db1bfa6a",
   "metadata": {},
   "outputs": [],
   "source": []
  }
 ],
 "metadata": {
  "kernelspec": {
   "display_name": "Python 3 (ipykernel)",
   "language": "python",
   "name": "python3"
  },
  "language_info": {
   "codemirror_mode": {
    "name": "ipython",
    "version": 3
   },
   "file_extension": ".py",
   "mimetype": "text/x-python",
   "name": "python",
   "nbconvert_exporter": "python",
   "pygments_lexer": "ipython3",
   "version": "3.11.8"
  }
 },
 "nbformat": 4,
 "nbformat_minor": 5
}
